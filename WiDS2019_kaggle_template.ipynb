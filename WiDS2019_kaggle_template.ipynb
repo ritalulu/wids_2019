{
  "nbformat": 4,
  "nbformat_minor": 0,
  "metadata": {
    "colab": {
      "name": "WiDS2019_kaggle_template.ipynb",
      "version": "0.3.2",
      "provenance": [],
      "collapsed_sections": [],
      "include_colab_link": true
    },
    "kernelspec": {
      "name": "python3",
      "display_name": "Python 3"
    },
    "accelerator": "GPU"
  },
  "cells": [
    {
      "cell_type": "markdown",
      "metadata": {
        "id": "view-in-github",
        "colab_type": "text"
      },
      "source": [
        "<a href=\"https://colab.research.google.com/github/ritalulu/wids_2019/blob/master/WiDS2019_kaggle_template.ipynb\" target=\"_parent\"><img src=\"https://colab.research.google.com/assets/colab-badge.svg\" alt=\"Open In Colab\"/></a>"
      ]
    },
    {
      "metadata": {
        "id": "spnSb2MwuGWA",
        "colab_type": "code",
        "colab": {}
      },
      "cell_type": "code",
      "source": [
        "# Import libraries\n",
        "import numpy as np\n",
        "import matplotlib.pyplot as plt\n",
        "import pandas as pd\n",
        "import tensorflow as tf"
      ],
      "execution_count": 0,
      "outputs": []
    },
    {
      "metadata": {
        "id": "bANkoD_UWdZM",
        "colab_type": "text"
      },
      "cell_type": "markdown",
      "source": [
        "# Downloading Data for WiDS Datathon from Kaggle\n",
        "* Run all the steps below to obtain the data"
      ]
    },
    {
      "metadata": {
        "id": "6LttBuGb2Ndg",
        "colab_type": "code",
        "colab": {}
      },
      "cell_type": "code",
      "source": [
        "!pip install kaggle"
      ],
      "execution_count": 0,
      "outputs": []
    },
    {
      "metadata": {
        "id": "fTMu622P2v0X",
        "colab_type": "code",
        "colab": {}
      },
      "cell_type": "code",
      "source": [
        "!mkdir .kaggle"
      ],
      "execution_count": 0,
      "outputs": []
    },
    {
      "metadata": {
        "id": "3p-kftKUXC-t",
        "colab_type": "text"
      },
      "cell_type": "markdown",
      "source": [
        "* The cell below will prompt you to choose kaggle.json file dowloaded from your Kaggle account to your computer.\n",
        "* Run the cell, then select the file. Once the upload of the file is complete, the cell will finish running."
      ]
    },
    {
      "metadata": {
        "id": "NTxoo0e_3Lwc",
        "colab_type": "code",
        "colab": {}
      },
      "cell_type": "code",
      "source": [
        "# Run this cell and select the kaggle.json file downloaded\n",
        "# from the Kaggle account settings page.\n",
        "from google.colab import files\n",
        "files.upload()"
      ],
      "execution_count": 0,
      "outputs": []
    },
    {
      "metadata": {
        "id": "aO-4O84s6Xp6",
        "colab_type": "code",
        "colab": {}
      },
      "cell_type": "code",
      "source": [
        "# Let's make sure the kaggle.json file is present.\n",
        "!ls -lha kaggle.json"
      ],
      "execution_count": 0,
      "outputs": []
    },
    {
      "metadata": {
        "id": "x7fMZL146aB8",
        "colab_type": "code",
        "colab": {}
      },
      "cell_type": "code",
      "source": [
        "# The Kaggle API client expects this file to be in ~/.kaggle,\n",
        "# so move it there.\n",
        "!mkdir -p ~/.kaggle\n",
        "!cp kaggle.json ~/.kaggle/\n",
        "\n",
        "# This permissions change avoids a warning on Kaggle tool startup.\n",
        "!chmod 600 ~/.kaggle/kaggle.json"
      ],
      "execution_count": 0,
      "outputs": []
    },
    {
      "metadata": {
        "id": "RkWO2nXZ7RXi",
        "colab_type": "code",
        "colab": {}
      },
      "cell_type": "code",
      "source": [
        "# Download the data for the WiDS datathon\n",
        "!kaggle competitions download -c widsdatathon2019 -p /content"
      ],
      "execution_count": 0,
      "outputs": []
    },
    {
      "metadata": {
        "id": "gEJ-0gRB7Ewl",
        "colab_type": "code",
        "colab": {}
      },
      "cell_type": "code",
      "source": [
        "# Unzip the files\n",
        "!unzip \\*.zip"
      ],
      "execution_count": 0,
      "outputs": []
    },
    {
      "metadata": {
        "id": "ujCP8tWI8vl3",
        "colab_type": "code",
        "colab": {}
      },
      "cell_type": "code",
      "source": [
        "# Look at what files are available\n",
        "!ls"
      ],
      "execution_count": 0,
      "outputs": []
    },
    {
      "metadata": {
        "id": "emBK0x1i8Vf1",
        "colab_type": "code",
        "colab": {}
      },
      "cell_type": "code",
      "source": [
        "# Read a file\n",
        "train_labels = pd.read_csv('traininglabels.csv')\n",
        "train_labels.head()"
      ],
      "execution_count": 0,
      "outputs": []
    },
    {
      "metadata": {
        "id": "WDifU46dYBEB",
        "colab_type": "text"
      },
      "cell_type": "markdown",
      "source": [
        "# Now we are done with downloading data! \n",
        "* Try building a model inside this notebook by create additional cells below with code to specify and fit the model\n",
        "* If you are fitting large neural nets, make sure this google colab notebook is running on GPUs\n",
        "* Check Edit --> Notebook settings --> Hardware accelerator: GPU"
      ]
    },
    {
      "metadata": {
        "id": "ZcDDw0AbWTKX",
        "colab_type": "code",
        "colab": {}
      },
      "cell_type": "code",
      "source": [
        "# Start building a model here"
      ],
      "execution_count": 0,
      "outputs": []
    },
    {
      "metadata": {
        "id": "83dhvRioZEWj",
        "colab_type": "code",
        "colab": {}
      },
      "cell_type": "code",
      "source": [
        ""
      ],
      "execution_count": 0,
      "outputs": []
    },
    {
      "metadata": {
        "id": "f5jlD1EjZFX8",
        "colab_type": "code",
        "colab": {}
      },
      "cell_type": "code",
      "source": [
        ""
      ],
      "execution_count": 0,
      "outputs": []
    },
    {
      "metadata": {
        "id": "oRXHPWKKZI46",
        "colab_type": "code",
        "colab": {}
      },
      "cell_type": "code",
      "source": [
        ""
      ],
      "execution_count": 0,
      "outputs": []
    },
    {
      "metadata": {
        "id": "OwpYLDdVZK24",
        "colab_type": "text"
      },
      "cell_type": "markdown",
      "source": [
        "# Once you have generated predictions on the holdout and test data, create a submission file\n",
        "* The submission file must have 6534 rows  - number of samples in holdout and test sets combined\n",
        "* The submission file must have correct headings \"image_id\" and \"has_oilpalm\"\n",
        "* The names of the rows should be image ids\n",
        "* Below is an example of how to do it\n"
      ]
    },
    {
      "metadata": {
        "id": "103Q2nlOexLr",
        "colab_type": "code",
        "colab": {}
      },
      "cell_type": "code",
      "source": [
        "# Let's take a look at the sample submission file provided by Kaggle\n",
        "sample_submission = pd.read_csv('SampleSubmission.csv', index_col=0)\n",
        "sample_submission.head()"
      ],
      "execution_count": 0,
      "outputs": []
    },
    {
      "metadata": {
        "id": "E9Ll0kEbbhlI",
        "colab_type": "code",
        "colab": {}
      },
      "cell_type": "code",
      "source": [
        "# helper function for creating submission file\n",
        "# create a dataframe containing image names in specified folder\n",
        "from os import listdir\n",
        "from os.path import isfile, join\n",
        "def make_dataframe_with_imagefile_names(mypath):\n",
        "  onlyfiles = [f for f in listdir(mypath) if isfile(join(mypath, f))]\n",
        "  df = pd.DataFrame(onlyfiles, columns = ['image_id'])\n",
        "  return df"
      ],
      "execution_count": 0,
      "outputs": []
    },
    {
      "metadata": {
        "id": "Cm7EfQlcZGmE",
        "colab_type": "code",
        "colab": {}
      },
      "cell_type": "code",
      "source": [
        "# create a dataframe with image ids found in the holdout set\n",
        "holdout_df = make_dataframe_with_imagefile_names('./leaderboard_holdout_data/')\n",
        "# create a dataframe with image ids found in the test set\n",
        "test_df = make_dataframe_with_imagefile_names('./leaderboard_test_data/')"
      ],
      "execution_count": 0,
      "outputs": []
    },
    {
      "metadata": {
        "id": "DKAQffiScdsy",
        "colab_type": "text"
      },
      "cell_type": "markdown",
      "source": [
        "* Here we're making fake predictions on the holdout and test sets by setting everything to 0\n",
        "* But you will have real predictions based on your model, so please submit those instead\n",
        "* Your predictions should be a score for each data point for which class it likely belongs to"
      ]
    },
    {
      "metadata": {
        "id": "3_d8cjnacFa4",
        "colab_type": "code",
        "colab": {}
      },
      "cell_type": "code",
      "source": [
        "# here we're making fake predictions on the holdout and test sets\n",
        "# set everything to 0\n",
        "pred_holdout = np.zeros(len(holdout_df))\n",
        "pred_test = np.zeros(len(test_df))"
      ],
      "execution_count": 0,
      "outputs": []
    },
    {
      "metadata": {
        "id": "TDTVZRgZCJRr",
        "colab_type": "code",
        "colab": {}
      },
      "cell_type": "code",
      "source": [
        "# combine predictions on holdout and test sets\n",
        "image_names = pd.concat([holdout_df, test_df])\n",
        "predicted_labels = np.concatenate((pred_holdout, pred_test))\n",
        "# create a submission dataframe\n",
        "submissions = pd.DataFrame(image_names, columns = ['image_id'])\n",
        "submissions['has_oilpalm'] = predicted_labels\n",
        "# set image_id to be the row names\n",
        "submissions = submissions.set_index('image_id')\n",
        "# just in case sort the submissions file we created by the image ids in the SampleSubmission.csv file\n",
        "# so that the order of images is consistent\n",
        "submissions = submissions.loc[sample_submission.index.values,:]\n",
        "submissions.head()"
      ],
      "execution_count": 0,
      "outputs": []
    },
    {
      "metadata": {
        "id": "tvDgq6-1M-X6",
        "colab_type": "code",
        "colab": {}
      },
      "cell_type": "code",
      "source": [
        "# Save the file\n",
        "submissions.to_csv('/content/submission.csv')"
      ],
      "execution_count": 0,
      "outputs": []
    },
    {
      "metadata": {
        "id": "UCgtY5MbSAwF",
        "colab_type": "code",
        "colab": {}
      },
      "cell_type": "code",
      "source": [
        "# Download the file locally on your computer\n",
        "from google.colab import files\n",
        "files.download('/content/submission.csv')"
      ],
      "execution_count": 0,
      "outputs": []
    }
  ]
}